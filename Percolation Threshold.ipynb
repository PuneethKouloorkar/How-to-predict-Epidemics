{
 "cells": [
  {
   "cell_type": "markdown",
   "metadata": {},
   "source": [
    "# Numerical Simulation of percolation threshold"
   ]
  },
  {
   "cell_type": "code",
   "execution_count": 41,
   "metadata": {
    "scrolled": true
   },
   "outputs": [
    {
     "name": "stdout",
     "output_type": "stream",
     "text": [
      "0.0027500000000000003\n",
      "0.0007664854858377946\n",
      "0.0038000000000000004\n",
      "0.0014352700094407325\n",
      "0.005100000000000001\n",
      "0.0016093476939431082\n",
      "0.0066500000000000005\n",
      "0.001710993863226867\n",
      "0.009200000000000002\n",
      "0.004069397989875161\n",
      "0.013500000000000002\n",
      "0.005714017850864661\n",
      "0.020450000000000003\n",
      "0.009718410363840375\n",
      "0.028050000000000002\n",
      "0.012951737335199475\n",
      "0.034100000000000005\n",
      "0.019154372868877747\n",
      "0.045950000000000005\n",
      "0.030196812745718712\n",
      "0.0339\n",
      "0.023108223644408496\n",
      "0.039650000000000005\n",
      "0.027201608408327624\n",
      "0.031150000000000004\n",
      "0.016668158266587223\n",
      "0.029750000000000006\n",
      "0.023284920012746447\n",
      "0.040400000000000005\n",
      "0.030625806111839734\n",
      "0.03205000000000001\n",
      "0.016773416467732505\n",
      "0.0256\n",
      "0.015907231060118543\n",
      "0.03300000000000001\n",
      "0.022120126581916297\n",
      "0.027250000000000007\n",
      "0.02183088408654125\n",
      "0.016650000000000005\n",
      "0.009056903444334604\n"
     ]
    }
   ],
   "source": [
    "import numpy as np\n",
    "import random\n",
    "import math\n",
    "import matplotlib.pyplot as plt\n",
    "\n",
    "parr = np.linspace(0.1, 0.95, 20) # Define fraction of susceptible sites\n",
    "pcr2 = np.zeros((20,))\n",
    "pcr = np.zeros((20,))\n",
    "\n",
    "for v in range(len(parr)):\n",
    "    for u in range(20):\n",
    "        L = [0] * 10**3  # Total number of sites or nodes in the small-world network\n",
    "        Susceptable = (parr[v])*len(L)  # Number of susceptable sites\n",
    "        Susceptable_Indices = []\n",
    "        Shortcut_Connections = []\n",
    "        K = 1 # A site is connected only to it's immediate neighbours\n",
    "        phi = 10**-4 # Average number of shortcuts per bond\n",
    "        shortcuts = math.ceil(phi*K*len(L)) # Number of shortcuts\n",
    "        #print(shortcuts)\n",
    "\n",
    "        # Randomly choose susceptable sites\n",
    "        while len(Susceptable_Indices) < int(parr[v]*len(L)):\n",
    "            temp = int(np.random.randint(0, len(L)))\n",
    "            if temp not in Susceptable_Indices:\n",
    "                L[temp] = 1\n",
    "            else:\n",
    "                continue\n",
    "            Susceptable_Indices.append(temp)\n",
    "\n",
    "        #print(len(Susceptable_Indices))\n",
    "        #print(Susceptable_Indices)\n",
    "\n",
    "        import copy\n",
    "\n",
    "        #print(len(Susceptable_Indices))\n",
    "        #print(Susceptable_Indices)\n",
    "        Susceptable_Indices.sort()\n",
    "        #print(Susceptable_Indices)\n",
    "\n",
    "        # Locate local clusters\n",
    "        Susceptable_Indices_temp = copy.copy(Susceptable_Indices)\n",
    "        local_clusters = [Susceptable_Indices_temp[0]]\n",
    "        for i in range(len(Susceptable_Indices_temp)):\n",
    "                if Susceptable_Indices_temp[i] == local_clusters[-1] + 1:\n",
    "                    local_clusters.append(Susceptable_Indices_temp[i])\n",
    "                else:\n",
    "                    local_clusters.append('-')\n",
    "                    local_clusters.append(Susceptable_Indices_temp[i])\n",
    "                    i = i+1\n",
    "\n",
    "        #print()            \n",
    "        #print(local_clusters)\n",
    "\n",
    "        local_clusters = local_clusters[2:]\n",
    "        #print(local_clusters)\n",
    "\n",
    "        def getIndexPositions(listOfElements, element):\n",
    "            indexPosList = []\n",
    "            for i in range(len(listOfElements)): \n",
    "                if listOfElements[i] == element:\n",
    "                    indexPosList.append(i)\n",
    "            return indexPosList\n",
    "\n",
    "        indexPosList = getIndexPositions(local_clusters, '-')\n",
    "        #print(\"Indexes of '-': {}\".format(indexPosList))\n",
    "\n",
    "        res = [local_clusters[i : j] for i, j in zip([0] + indexPosList, indexPosList + [None])]\n",
    "        #print(res)\n",
    "        res_temp = copy.copy(res)\n",
    "        for i in range(len(res_temp)):\n",
    "                if '-' in res_temp[i]:\n",
    "                    res_temp[i].remove('-')\n",
    "                    res_temp[i] = np.array(res_temp[i])\n",
    "                else:\n",
    "                    continue\n",
    "        res_temp[0] = np.array(res_temp[0])\n",
    "        #print(res_temp)\n",
    "        #print(len(res_temp))\n",
    "\n",
    "        for i in range(shortcuts):\n",
    "            temp = int(np.random.randint(0, len(L)))\n",
    "            temp1 = int(np.random.randint(0, len(L)))\n",
    "            if temp != temp1 and temp1 != temp + 1 and temp != temp1 + 1:\n",
    "                L[temp], L[temp1] = 11, 11\n",
    "            else:\n",
    "                continue\n",
    "            Shortcut_Connections.append([temp, temp1])\n",
    "\n",
    "        #print(len(Shortcut_Connections))\n",
    "        #print(L)\n",
    "\n",
    "        # Identify if a local cluster contains last site (if it is susceptable) and first site (if it is susceptable)\n",
    "        import copy\n",
    "        res_temp2 = copy.copy(res_temp)\n",
    "        if (0 in res_temp2[0]) and (len(L)-1 in res_temp2[-1]):\n",
    "            res_temp2[0] = np.append(res_temp2[-1], res_temp2[0])\n",
    "            res_temp2.pop(-1)\n",
    "\n",
    "        # Locate global connected cluster\n",
    "        a = []\n",
    "        m = 0\n",
    "        b = copy.copy(Shortcut_Connections)\n",
    "        for i in range(len(Shortcut_Connections)):\n",
    "            indsx = 0\n",
    "            indsy = 0\n",
    "            #for j in Shortcut_Connections[i]:\n",
    "            for k in range(len(res_temp2)):\n",
    "                #print(res_temp2[k])\n",
    "                #print(Shortcut_Connections[i][0])\n",
    "                #print(k)\n",
    "                inds1 = np.where(res_temp2[k]==Shortcut_Connections[i][0])[0]\n",
    "                inds2 = np.where(res_temp2[k]==Shortcut_Connections[i][1])[0]\n",
    "                if len(inds1) != 0:\n",
    "                    cl1 = k \n",
    "                    indsx = inds1\n",
    "                if len(inds2) != 0:\n",
    "                    cl2 = k\n",
    "                    indsy = inds2\n",
    "                if indsx != 0 and indsy != 0:\n",
    "                    res_temp2[cl1] = np.append(res_temp2[cl1], res_temp2[cl2])\n",
    "                    res_temp2.pop(cl2)\n",
    "                    break\n",
    "\n",
    "                \n",
    "        clsize = np.zeros((len(res_temp2,)))\n",
    "        for i in range(len(res_temp2)):\n",
    "            clsize[i] = len(res_temp2[i])\n",
    "        indsmax = np.where(clsize==np.max(clsize))[0][0]\n",
    "        #print(indsmax)\n",
    "        clsize[indsmax]\n",
    "\n",
    "        pc = clsize[indsmax]/len(L) # Size of global connected cluster\n",
    "        pcr[u] = pc\n",
    "    print(np.mean(pcr))\n",
    "    print(np.std(pcr))\n",
    "    pcr2[v] = np.mean(pcr)"
   ]
  },
  {
   "cell_type": "code",
   "execution_count": 42,
   "metadata": {},
   "outputs": [
    {
     "data": {
      "text/plain": [
       "[<matplotlib.lines.Line2D at 0x1f01cb8c8c8>]"
      ]
     },
     "execution_count": 42,
     "metadata": {},
     "output_type": "execute_result"
    },
    {
     "data": {
      "image/png": "[encoded data removed]",
      "text/plain": [
       "<Figure size 432x288 with 1 Axes>"
      ]
     },
     "metadata": {
      "needs_background": "light"
     },
     "output_type": "display_data"
    }
   ],
   "source": [
    "plt.plot(parr,pcr2,'.')"
   ]
  },
  {
   "cell_type": "code",
   "execution_count": 43,
   "metadata": {},
   "outputs": [
    {
     "data": {
      "text/plain": [
       "array([0.45789474])"
      ]
     },
     "execution_count": 43,
     "metadata": {},
     "output_type": "execute_result"
    }
   ],
   "source": [
    "p_c.append(parr[np.where(np.gradient(pcr2[:-4])==np.max(np.gradient(pcr2[:-4])))[0]]  # percolation threshold calculation\n",
    "                                                                                      # Repeat this simulation varying phi"
   ]
  },
  {
   "cell_type": "code",
   "execution_count": 44,
   "metadata": {},
   "outputs": [
    {
     "data": {
      "image/png": "[encoded data removed]",
      "text/plain": [
       "<Figure size 432x288 with 1 Axes>"
      ]
     },
     "metadata": {
      "needs_background": "light"
     },
     "output_type": "display_data"
    }
   ],
   "source": [
    "phi = np.linspace(10**-4, 1, 5)\n",
    "plt.plot(phi, [0.77015263, 0.77015263, 0.77015263, 0.72631579, 0.45789474], '.') # corresponding values of percolation threshold\n",
    "plt.ylabel('p_c')\n",
    "plt.xlabel('phi')\n",
    "plt.savefig('Analytical_Site_Percolation2.png', dpi=300, bbox_inches='tight')"
   ]
  },
  {
   "cell_type": "markdown",
   "metadata": {},
   "source": [
    "# Analytical equation"
   ]
  },
  {
   "cell_type": "code",
   "execution_count": 46,
   "metadata": {},
   "outputs": [
    {
     "data": {
      "image/png": "[encoded data removed]",
      "text/plain": [
       "<Figure size 432x288 with 1 Axes>"
      ]
     },
     "metadata": {
      "needs_background": "light"
     },
     "output_type": "display_data"
    },
    {
     "data": {
      "text/plain": [
       "<Figure size 432x288 with 0 Axes>"
      ]
     },
     "metadata": {},
     "output_type": "display_data"
    }
   ],
   "source": [
    "import math\n",
    "import matplotlib.pyplot as plt\n",
    "import numpy as np\n",
    "\n",
    "L = 10**3\n",
    "K = 1\n",
    "phi = [10**-4, 10**-3, 10**-2, 10**-1, 1]\n",
    "phi_list = np.linspace(10**-4, 1, 5)\n",
    "\n",
    "shortcuts = []\n",
    "\n",
    "for i in phi:\n",
    "    shortcuts_temp = K*L*i\n",
    "    shortcuts.append(shortcuts_temp)\n",
    "\n",
    "p_c = []\n",
    "for i in phi:\n",
    "    p_c_temp = ((math.sqrt(4*i**2+12*i+1))-(2*i)-1)/(4*i)\n",
    "    p_c.append(p_c_temp)\n",
    "\n",
    "plt.plot(phi_list, p_c, '.')\n",
    "plt.ylabel('p_c')\n",
    "plt.xlabel('phi')\n",
    "plt.plot(phi_list, [0.77015263, 0.77015263, 0.77015263, 0.72631579, 0.45789474], '.')\n",
    "plt.show()\n",
    "plt.savefig('Analytical_Site_Percolation3.png', dpi=300, bbox_inches='tight')"
   ]
  },
  {
   "cell_type": "code",
   "execution_count": null,
   "metadata": {},
   "outputs": [],
   "source": []
  }
 ],
 "metadata": {
  "kernelspec": {
   "display_name": "Python 3",
   "language": "python",
   "name": "python3"
  },
  "language_info": {
   "codemirror_mode": {
    "name": "ipython",
    "version": 3
   },
   "file_extension": ".py",
   "mimetype": "text/x-python",
   "name": "python",
   "nbconvert_exporter": "python",
   "pygments_lexer": "ipython3",
   "version": "3.7.6"
  },
  "toc": {
   "base_numbering": 1,
   "nav_menu": {},
   "number_sections": true,
   "sideBar": true,
   "skip_h1_title": false,
   "title_cell": "Table of Contents",
   "title_sidebar": "Contents",
   "toc_cell": false,
   "toc_position": {},
   "toc_section_display": true,
   "toc_window_display": false
  }
 },
 "nbformat": 4,
 "nbformat_minor": 2
}
